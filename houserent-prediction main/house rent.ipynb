{
 "cells": [
  {
   "cell_type": "code",
   "execution_count": 1,
   "metadata": {},
   "outputs": [
    {
     "name": "stdout",
     "output_type": "stream",
     "text": [
      "    Posted On  BHK   Rent  Size            Floor    Area Type  \\\n",
      "0  2022-05-18    2  10000  1100  Ground out of 2   Super Area   \n",
      "1  2022-05-13    2  20000   800       1 out of 3   Super Area   \n",
      "2  2022-05-16    2  17000  1000       1 out of 3   Super Area   \n",
      "3  2022-07-04    2  10000   800       1 out of 2   Super Area   \n",
      "4  2022-05-09    2   7500   850       1 out of 2  Carpet Area   \n",
      "\n",
      "              Area Locality     City Furnishing Status  Tenant Preferred  \\\n",
      "0                    Bandel  Kolkata       Unfurnished  Bachelors/Family   \n",
      "1  Phool Bagan, Kankurgachi  Kolkata    Semi-Furnished  Bachelors/Family   \n",
      "2   Salt Lake City Sector 2  Kolkata    Semi-Furnished  Bachelors/Family   \n",
      "3               Dumdum Park  Kolkata       Unfurnished  Bachelors/Family   \n",
      "4             South Dum Dum  Kolkata       Unfurnished         Bachelors   \n",
      "\n",
      "   Bathroom Point of Contact  \n",
      "0         2    Contact Owner  \n",
      "1         1    Contact Owner  \n",
      "2         1    Contact Owner  \n",
      "3         1    Contact Owner  \n",
      "4         1    Contact Owner  \n"
     ]
    }
   ],
   "source": [
    "import pandas as pd\n",
    "import numpy as np\n",
    "import matplotlib.pyplot as plt\n",
    "import plotly.express as px\n",
    "import plotly.graph_objects as go\n",
    "\n",
    "data = pd.read_csv(\"D:/Users/91978/Downloads/House_rent_sample.csv\")\n",
    "print(data.head())"
   ]
  },
  {
   "cell_type": "code",
   "execution_count": 2,
   "metadata": {},
   "outputs": [],
   "source": [
    "tenant = data[\"Tenant Preferred\"].value_counts()\n",
    "label = tenant.index\n",
    "counts = tenant.values\n",
    "colors = ['gold','lightgreen']"
   ]
  },
  {
   "cell_type": "code",
   "execution_count": 3,
   "metadata": {},
   "outputs": [
    {
     "name": "stdout",
     "output_type": "stream",
     "text": [
      "    Posted On  BHK   Rent  Size            Floor  Area Type  \\\n",
      "0  2022-05-18    2  10000  1100  Ground out of 2          1   \n",
      "1  2022-05-13    2  20000   800       1 out of 3          1   \n",
      "2  2022-05-16    2  17000  1000       1 out of 3          1   \n",
      "3  2022-07-04    2  10000   800       1 out of 2          1   \n",
      "4  2022-05-09    2   7500   850       1 out of 2          2   \n",
      "\n",
      "              Area Locality  City  Furnishing Status  Tenant Preferred  \\\n",
      "0                    Bandel  7000                  0                 2   \n",
      "1  Phool Bagan, Kankurgachi  7000                  1                 2   \n",
      "2   Salt Lake City Sector 2  7000                  1                 2   \n",
      "3               Dumdum Park  7000                  0                 2   \n",
      "4             South Dum Dum  7000                  0                 1   \n",
      "\n",
      "   Bathroom Point of Contact  \n",
      "0         2    Contact Owner  \n",
      "1         1    Contact Owner  \n",
      "2         1    Contact Owner  \n",
      "3         1    Contact Owner  \n",
      "4         1    Contact Owner  \n"
     ]
    }
   ],
   "source": [
    "\n",
    "data[\"Area Type\"] = data[\"Area Type\"].map({\"Super Area\": 1,\n",
    "                                           \"Carpet Area\": 2,\n",
    "                                           \"Built Area\": 3})\n",
    "data[\"City\"] = data[\"City\"].map({\"Mumbai\": 4000, \"Chennai\": 6000,\n",
    "                                 \"Bangalore\": 5600, \"Hyderabad\": 5000,\n",
    "                                 \"Delhi\": 1100, \"Kolkata\": 7000})\n",
    "data[\"Furnishing Status\"] = data[\"Furnishing Status\"].map({\"Unfurnished\": 0,\n",
    "                                                           \"Semi-Furnished\": 1,\n",
    "                                                           \"Furnished\": 2})\n",
    "data[\"Tenant Preferred\"] = data[\"Tenant Preferred\"].map({\"Bachelors/Family\": 2,\n",
    "                                                         \"Bachelors\": 1,\n",
    "                                                         \"Family\": 3})\n",
    "print(data.head())"
   ]
  },
  {
   "cell_type": "code",
   "execution_count": 4,
   "metadata": {},
   "outputs": [
    {
     "name": "stdout",
     "output_type": "stream",
     "text": [
      "Model: \"sequential\"\n",
      "_________________________________________________________________\n",
      " Layer (type)                Output Shape              Param #   \n",
      "=================================================================\n",
      " lstm (LSTM)                 (None, 7, 128)            66560     \n",
      "                                                                 \n",
      " lstm_1 (LSTM)               (None, 64)                49408     \n",
      "                                                                 \n",
      " dense (Dense)               (None, 25)                1625      \n",
      "                                                                 \n",
      " dense_1 (Dense)             (None, 1)                 26        \n",
      "                                                                 \n",
      "=================================================================\n",
      "Total params: 117619 (459.45 KB)\n",
      "Trainable params: 117619 (459.45 KB)\n",
      "Non-trainable params: 0 (0.00 Byte)\n",
      "_________________________________________________________________\n"
     ]
    }
   ],
   "source": [
    "from sklearn.model_selection import train_test_split\n",
    "x = np.array(data[[\"BHK\", \"Size\", \"Area Type\", \"City\",\n",
    "                   \"Furnishing Status\", \"Tenant Preferred\",\n",
    "                   \"Bathroom\"]])\n",
    "y = np.array(data[[\"Rent\"]])\n",
    "\n",
    "xtrain, xtest, ytrain, ytest = train_test_split(x, y,\n",
    "                                                test_size=0.10,\n",
    "                                                random_state=42)\n",
    "\n",
    "from keras.models import Sequential\n",
    "from keras.layers import Dense, LSTM\n",
    "model = Sequential()\n",
    "model.add(LSTM(128, return_sequences=True,\n",
    "               input_shape= (xtrain.shape[1], 1)))\n",
    "model.add(LSTM(64, return_sequences=False))\n",
    "model.add(Dense(25))\n",
    "model.add(Dense(1))\n",
    "model.summary()"
   ]
  },
  {
   "cell_type": "code",
   "execution_count": 5,
   "metadata": {},
   "outputs": [
    {
     "name": "stdout",
     "output_type": "stream",
     "text": [
      "Epoch 1/21\n",
      "45/45 [==============================] - 6s 12ms/step - loss: 183861264.0000\n",
      "Epoch 2/21\n",
      "45/45 [==============================] - 0s 11ms/step - loss: 183256832.0000\n",
      "Epoch 3/21\n",
      "45/45 [==============================] - 0s 10ms/step - loss: 182517504.0000\n",
      "Epoch 4/21\n",
      "45/45 [==============================] - 0s 10ms/step - loss: 181556688.0000\n",
      "Epoch 5/21\n",
      "45/45 [==============================] - 0s 9ms/step - loss: 180362784.0000\n",
      "Epoch 6/21\n",
      "45/45 [==============================] - 0s 9ms/step - loss: 178924336.0000\n",
      "Epoch 7/21\n",
      "45/45 [==============================] - 0s 10ms/step - loss: 177271920.0000\n",
      "Epoch 8/21\n",
      "45/45 [==============================] - 0s 10ms/step - loss: 175408000.0000\n",
      "Epoch 9/21\n",
      "45/45 [==============================] - 0s 10ms/step - loss: 173311888.0000\n",
      "Epoch 10/21\n",
      "45/45 [==============================] - 0s 10ms/step - loss: 171000096.0000\n",
      "Epoch 11/21\n",
      "45/45 [==============================] - 0s 10ms/step - loss: 168530976.0000\n",
      "Epoch 12/21\n",
      "45/45 [==============================] - 0s 8ms/step - loss: 165889552.0000\n",
      "Epoch 13/21\n",
      "45/45 [==============================] - 0s 9ms/step - loss: 163049184.0000\n",
      "Epoch 14/21\n",
      "45/45 [==============================] - 0s 10ms/step - loss: 160160672.0000\n",
      "Epoch 15/21\n",
      "45/45 [==============================] - 0s 10ms/step - loss: 157110288.0000\n",
      "Epoch 16/21\n",
      "45/45 [==============================] - 0s 9ms/step - loss: 153891776.0000\n",
      "Epoch 17/21\n",
      "45/45 [==============================] - 0s 9ms/step - loss: 150725856.0000\n",
      "Epoch 18/21\n",
      "45/45 [==============================] - 0s 9ms/step - loss: 147322944.0000\n",
      "Epoch 19/21\n",
      "45/45 [==============================] - 0s 10ms/step - loss: 143982192.0000\n",
      "Epoch 20/21\n",
      "45/45 [==============================] - 0s 10ms/step - loss: 140559696.0000\n",
      "Epoch 21/21\n",
      "45/45 [==============================] - 0s 9ms/step - loss: 137137168.0000\n"
     ]
    },
    {
     "data": {
      "text/plain": [
       "<keras.src.callbacks.History at 0x265a9745e90>"
      ]
     },
     "execution_count": 5,
     "metadata": {},
     "output_type": "execute_result"
    }
   ],
   "source": [
    "model.compile(optimizer='adam', loss='mean_squared_error')\n",
    "model.fit(xtrain, ytrain, batch_size=1, epochs=21)\n"
   ]
  },
  {
   "cell_type": "code",
   "execution_count": 8,
   "metadata": {},
   "outputs": [
    {
     "name": "stdout",
     "output_type": "stream",
     "text": [
      "Enter House Details to Predict Rent\n",
      "1/1 [==============================] - 0s 50ms/step\n",
      "Predicted House Price =  [[2415.1711]]\n"
     ]
    }
   ],
   "source": [
    "print(\"Enter House Details to Predict Rent\")\n",
    "a = int(input(\"Number of BHK: \"))\n",
    "b = int(input(\"Size of the House: \"))\n",
    "c = int(input(\"Area Type (Super Area = 1, Carpet Area = 2, Built Area = 3): \"))\n",
    "d = int(input(\"Pin Code of the City: \"))\n",
    "e = int(input(\"Furnishing Status of the House (Unfurnished = 0, Semi-Furnished = 1, Furnished = 2): \"))\n",
    "f = int(input(\"Tenant Type (Bachelors = 1, Bachelors/Family = 2, Only Family = 3): \"))\n",
    "g = int(input(\"Number of bathrooms: \"))\n",
    "features = np.array([[a, b, c, d, e, f, g]])\n",
    "print(\"Predicted House Price = \", model.predict(features))"
   ]
  }
 ],
 "metadata": {
  "kernelspec": {
   "display_name": "Python 3",
   "language": "python",
   "name": "python3"
  },
  "language_info": {
   "codemirror_mode": {
    "name": "ipython",
    "version": 3
   },
   "file_extension": ".py",
   "mimetype": "text/x-python",
   "name": "python",
   "nbconvert_exporter": "python",
   "pygments_lexer": "ipython3",
   "version": "3.11.4"
  },
  "orig_nbformat": 4
 },
 "nbformat": 4,
 "nbformat_minor": 2
}
